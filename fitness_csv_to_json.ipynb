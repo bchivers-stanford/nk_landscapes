{
 "cells": [
  {
   "cell_type": "code",
   "execution_count": 5,
   "metadata": {},
   "outputs": [],
   "source": [
    "import pandas as pd\n",
    "import json\n",
    "import numpy as np"
   ]
  },
  {
   "cell_type": "code",
   "execution_count": 6,
   "metadata": {},
   "outputs": [],
   "source": [
    "def location_to_int(location):\n",
    "    loc_array = location[1:-1].split(\",\")\n",
    "    \n",
    "    #Format check\n",
    "    try:\n",
    "        [int(num) for num in loc_array]\n",
    "    except:\n",
    "        print(\"Failure to convert to array of ints\")\n",
    "        print(\"Location needs to be comma seperated [0 or 1] with a single character at beginning+end\")\n",
    "        print(\"Example: (0,0,0,0,0,0)\")\n",
    "        print(\"Bad examples: 0,0,0,0,0        [0,fish,1,2,3,4,5]\")\n",
    "        print(\"Failed location: \"+str(location))\n",
    "        return 0\n",
    "    \n",
    "    loc_array = [int(num) for num in loc_array]\n",
    "    \n",
    "    out = 0\n",
    "    for bit in loc_array:\n",
    "        out = (out << 1) | bit\n",
    "        \n",
    "    return out"
   ]
  },
  {
   "cell_type": "code",
   "execution_count": 1,
   "metadata": {},
   "outputs": [],
   "source": [
    "def fitness_csv_to_json(fitness_function_name, fitness_function_file, output_json):\n",
    "    df = pd.read_csv(fitness_function_file)\n",
    "    df[\"binary\"] = [location_to_int(location) for location in df[\"Location\"]]\n",
    "    \n",
    "    final_json = {}\n",
    "    final_json[\"name\"] = fitness_function_name\n",
    "    final_json[\"function\"] = {}\n",
    "    final_json[\"lowest_location\"] = df[df['Fitness']==min(df['Fitness'])].iloc[0]['Location']\n",
    "    for index, row in df.iterrows():\n",
    "        final_json[\"function\"][row[\"binary\"]] = row['Fitness']\n",
    "    with open(output_json,\"w\") as output:\n",
    "        output.write(json.dumps(final_json))"
   ]
  },
  {
   "cell_type": "code",
   "execution_count": 12,
   "metadata": {},
   "outputs": [],
   "source": [
    "fitness_function_name = \"NK_hard\"\n",
    "fitness_function_file = \"../data/fitness_functions/NK_hard.csv\"\n",
    "output_json = \"../data/fitness_functions/NK_hard.json\""
   ]
  },
  {
   "cell_type": "code",
   "execution_count": 13,
   "metadata": {},
   "outputs": [],
   "source": [
    "fitness_csv_to_json(fitness_function_name, fitness_function_file, output_json)"
   ]
  },
  {
   "cell_type": "code",
   "execution_count": null,
   "metadata": {},
   "outputs": [],
   "source": []
  }
 ],
 "metadata": {
  "kernelspec": {
   "display_name": "Python 3",
   "language": "python",
   "name": "python3"
  },
  "language_info": {
   "codemirror_mode": {
    "name": "ipython",
    "version": 3
   },
   "file_extension": ".py",
   "mimetype": "text/x-python",
   "name": "python",
   "nbconvert_exporter": "python",
   "pygments_lexer": "ipython3",
   "version": "3.7.0"
  }
 },
 "nbformat": 4,
 "nbformat_minor": 2
}
